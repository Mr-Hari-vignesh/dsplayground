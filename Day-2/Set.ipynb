{
 "cells": [
  {
   "cell_type": "markdown",
   "id": "bfbf05e6",
   "metadata": {},
   "source": [
    "### Definition"
   ]
  },
  {
   "cell_type": "code",
   "execution_count": 1,
   "id": "3355fa98",
   "metadata": {},
   "outputs": [],
   "source": [
    "#A Python set is the collection of the unordered items. \n",
    "#Each element in the set must be unique, immutable, and the sets remove the duplicate elements. \n",
    "#Sets are mutable which means we can modify it after its creation."
   ]
  },
  {
   "cell_type": "markdown",
   "id": "ceb9ea79",
   "metadata": {},
   "source": [
    "### Creating a set"
   ]
  },
  {
   "cell_type": "code",
   "execution_count": 2,
   "id": "4a7db8ac",
   "metadata": {},
   "outputs": [
    {
     "name": "stdout",
     "output_type": "stream",
     "text": [
      "{'Tuesday', 'Friday', 'Sunday', 'Thursday', 'Monday', 'Saturday', 'Wednesday'}\n",
      "<class 'set'>\n"
     ]
    }
   ],
   "source": [
    "#set can be created by enclosing the comma-separated immutable items with the curly braces {}.\n",
    "Days = {\"Monday\", \"Tuesday\", \"Wednesday\", \"Thursday\", \"Friday\", \"Saturday\", \"Sunday\"}    \n",
    "print(Days)    \n",
    "print(type(Days))  "
   ]
  },
  {
   "cell_type": "markdown",
   "id": "db077c22",
   "metadata": {},
   "source": [
    "###### Using set() method"
   ]
  },
  {
   "cell_type": "code",
   "execution_count": 3,
   "id": "452a3b63",
   "metadata": {},
   "outputs": [
    {
     "name": "stdout",
     "output_type": "stream",
     "text": [
      "{'Tuesday', 'Friday', 'Sunday', 'Thursday', 'Monday', 'Saturday', 'Wednesday'}\n",
      "<class 'set'>\n"
     ]
    }
   ],
   "source": [
    "Days = set([\"Monday\", \"Tuesday\", \"Wednesday\", \"Thursday\", \"Friday\", \"Saturday\", \"Sunday\"])    \n",
    "print(Days)    \n",
    "print(type(Days)) "
   ]
  },
  {
   "cell_type": "code",
   "execution_count": 4,
   "id": "97223832",
   "metadata": {},
   "outputs": [],
   "source": [
    "#set can contain any type of element such as integer, float, tuple etc. \n",
    "#But mutable elements (list, dictionary, set) can't be a member of set."
   ]
  },
  {
   "cell_type": "code",
   "execution_count": 5,
   "id": "9e85b83b",
   "metadata": {},
   "outputs": [
    {
     "name": "stdout",
     "output_type": "stream",
     "text": [
      "<class 'set'>\n"
     ]
    }
   ],
   "source": [
    "# Creating a set which have immutable elements  \n",
    "set1 = {1,2,3, \"JavaTpoint\", 20.5, 14}  \n",
    "print(type(set1)) "
   ]
  },
  {
   "cell_type": "code",
   "execution_count": 7,
   "id": "bce5b741",
   "metadata": {},
   "outputs": [
    {
     "ename": "TypeError",
     "evalue": "unhashable type: 'list'",
     "output_type": "error",
     "traceback": [
      "\u001b[1;31m---------------------------------------------------------------------------\u001b[0m",
      "\u001b[1;31mTypeError\u001b[0m                                 Traceback (most recent call last)",
      "\u001b[1;32m<ipython-input-7-207e14c44020>\u001b[0m in \u001b[0;36m<module>\u001b[1;34m\u001b[0m\n\u001b[0;32m      1\u001b[0m \u001b[1;31m#Creating a set which have mutable element\u001b[0m\u001b[1;33m\u001b[0m\u001b[1;33m\u001b[0m\u001b[1;33m\u001b[0m\u001b[0m\n\u001b[1;32m----> 2\u001b[1;33m \u001b[0mset2\u001b[0m \u001b[1;33m=\u001b[0m \u001b[1;33m{\u001b[0m\u001b[1;36m1\u001b[0m\u001b[1;33m,\u001b[0m\u001b[1;36m2\u001b[0m\u001b[1;33m,\u001b[0m\u001b[1;36m3\u001b[0m\u001b[1;33m,\u001b[0m\u001b[1;33m[\u001b[0m\u001b[1;34m\"Javatpoint\"\u001b[0m\u001b[1;33m,\u001b[0m\u001b[1;36m4\u001b[0m\u001b[1;33m]\u001b[0m\u001b[1;33m}\u001b[0m\u001b[1;33m\u001b[0m\u001b[1;33m\u001b[0m\u001b[0m\n\u001b[0m\u001b[0;32m      3\u001b[0m \u001b[0mprint\u001b[0m\u001b[1;33m(\u001b[0m\u001b[0mtype\u001b[0m\u001b[1;33m(\u001b[0m\u001b[0mset2\u001b[0m\u001b[1;33m)\u001b[0m\u001b[1;33m)\u001b[0m\u001b[1;33m\u001b[0m\u001b[1;33m\u001b[0m\u001b[0m\n\u001b[0;32m      4\u001b[0m \u001b[1;31m#we have created two sets, the set set1 have immutable elements and set2 have one mutable element as a list.\u001b[0m\u001b[1;33m\u001b[0m\u001b[1;33m\u001b[0m\u001b[1;33m\u001b[0m\u001b[0m\n\u001b[0;32m      5\u001b[0m \u001b[1;31m#While checking the type of set2, it raised an error, which means set can contain only immutable elements.\u001b[0m\u001b[1;33m\u001b[0m\u001b[1;33m\u001b[0m\u001b[1;33m\u001b[0m\u001b[0m\n",
      "\u001b[1;31mTypeError\u001b[0m: unhashable type: 'list'"
     ]
    }
   ],
   "source": [
    "#Creating a set which have mutable element  \n",
    "set2 = {1,2,3,[\"Javatpoint\",4]}  \n",
    "print(type(set2)) \n",
    "#we have created two sets, the set set1 have immutable elements and set2 have one mutable element as a list. \n",
    "#While checking the type of set2, it raised an error, which means set can contain only immutable elements."
   ]
  },
  {
   "cell_type": "markdown",
   "id": "24ffa12a",
   "metadata": {},
   "source": [
    "###### Creating empty set"
   ]
  },
  {
   "cell_type": "code",
   "execution_count": 8,
   "id": "2f58e052",
   "metadata": {},
   "outputs": [],
   "source": [
    "#Python provides the set() method used without an argument to create an empty set.\n",
    "#bcz empty curly {} braces are also used to create a dictionary as well."
   ]
  },
  {
   "cell_type": "code",
   "execution_count": 9,
   "id": "c76779b2",
   "metadata": {},
   "outputs": [
    {
     "name": "stdout",
     "output_type": "stream",
     "text": [
      "<class 'dict'>\n",
      "<class 'set'>\n"
     ]
    }
   ],
   "source": [
    "# Empty curly braces will create dictionary  \n",
    "set3 = {}  \n",
    "print(type(set3))  \n",
    "  \n",
    "# Empty set using set() function  \n",
    "set4 = set()  \n",
    "print(type(set4))  "
   ]
  },
  {
   "cell_type": "markdown",
   "id": "23e1be15",
   "metadata": {},
   "source": [
    "###### Creating set with duplicate elements "
   ]
  },
  {
   "cell_type": "code",
   "execution_count": 11,
   "id": "a5e9efa1",
   "metadata": {},
   "outputs": [
    {
     "name": "stdout",
     "output_type": "stream",
     "text": [
      "{1, 2, 4, 5, 8, 9, 10}\n"
     ]
    }
   ],
   "source": [
    "set5 = {1,2,4,4,5,8,9,9,10}  \n",
    "print(set5)\n",
    "#when we print set5 it remove the duplicity from the set."
   ]
  },
  {
   "cell_type": "markdown",
   "id": "5d3cbae3",
   "metadata": {},
   "source": [
    "### Accessing Values in a Set"
   ]
  },
  {
   "cell_type": "code",
   "execution_count": 40,
   "id": "3fa9e8ab",
   "metadata": {},
   "outputs": [
    {
     "name": "stdout",
     "output_type": "stream",
     "text": [
      "Tue\n",
      "Thu\n",
      "Mon\n",
      "Wed\n",
      "Sun\n",
      "Sat\n",
      "Fri\n"
     ]
    }
   ],
   "source": [
    "#there is no index attached to the elements of the set\n",
    "#We cannot access individual values in a set. We can only access all the elements together\n",
    "#we can get the list of elements by looping through the set.\n",
    "Days=set([\"Mon\",\"Tue\",\"Wed\",\"Thu\",\"Fri\",\"Sat\",\"Sun\"])\n",
    "for d in Days:\n",
    "    print(d)\n"
   ]
  },
  {
   "cell_type": "markdown",
   "id": "fa497bdf",
   "metadata": {},
   "source": [
    "### Adding items to the set"
   ]
  },
  {
   "cell_type": "markdown",
   "id": "792c29df",
   "metadata": {},
   "source": [
    "###### Using add() method"
   ]
  },
  {
   "cell_type": "code",
   "execution_count": 12,
   "id": "da4c0c01",
   "metadata": {},
   "outputs": [
    {
     "name": "stdout",
     "output_type": "stream",
     "text": [
      "{'May', 'January', 'February', 'April', 'June', 'March'}\n",
      "{'May', 'January', 'February', 'April', 'August', 'June', 'July', 'March'}\n"
     ]
    }
   ],
   "source": [
    "#The add() method is used to add a single element\n",
    "Months = set([\"January\",\"February\", \"March\", \"April\", \"May\", \"June\"])    \n",
    "print(Months)\n",
    "Months.add(\"July\")    \n",
    "Months.add (\"August\")\n",
    "print(Months)"
   ]
  },
  {
   "cell_type": "markdown",
   "id": "f39fbca5",
   "metadata": {},
   "source": [
    "###### Using update() function"
   ]
  },
  {
   "cell_type": "code",
   "execution_count": 13,
   "id": "933bba5a",
   "metadata": {},
   "outputs": [
    {
     "name": "stdout",
     "output_type": "stream",
     "text": [
      "{'May', 'January', 'February', 'April', 'June', 'March'}\n",
      "{'May', 'January', 'February', 'April', 'August', 'September', 'June', 'October', 'July', 'March'}\n"
     ]
    }
   ],
   "source": [
    "# to add multiple elements\n",
    "Months = set([\"January\",\"February\", \"March\", \"April\", \"May\", \"June\"])    \n",
    "print(Months)\n",
    "Months.update([\"July\",\"August\",\"September\",\"October\"])\n",
    "print(Months)"
   ]
  },
  {
   "cell_type": "markdown",
   "id": "d520d47a",
   "metadata": {},
   "source": [
    "### Removing items from the set"
   ]
  },
  {
   "cell_type": "markdown",
   "id": "f6b0c29c",
   "metadata": {},
   "source": [
    "###### Using discard() method"
   ]
  },
  {
   "cell_type": "code",
   "execution_count": 15,
   "id": "06187b4d",
   "metadata": {},
   "outputs": [
    {
     "name": "stdout",
     "output_type": "stream",
     "text": [
      "{'May', 'January', 'February', 'April', 'June', 'March'}\n",
      "{'February', 'April', 'June', 'March'}\n"
     ]
    }
   ],
   "source": [
    "months = set([\"January\",\"February\", \"March\", \"April\", \"May\", \"June\"])  \n",
    "print(months)\n",
    "months.discard(\"January\")    \n",
    "months.discard(\"May\")\n",
    "print(months)"
   ]
  },
  {
   "cell_type": "code",
   "execution_count": 16,
   "id": "b9762b19",
   "metadata": {},
   "outputs": [],
   "source": [
    "#using discard() function if the item does not exist in the set then the set remain unchanged"
   ]
  },
  {
   "cell_type": "markdown",
   "id": "9f35e7a4",
   "metadata": {},
   "source": [
    "###### Using remove() function"
   ]
  },
  {
   "cell_type": "code",
   "execution_count": 17,
   "id": "5c4cb014",
   "metadata": {},
   "outputs": [
    {
     "name": "stdout",
     "output_type": "stream",
     "text": [
      "{'May', 'January', 'February', 'April', 'June', 'March'}\n",
      "{'February', 'April', 'June', 'March'}\n"
     ]
    }
   ],
   "source": [
    "months = set([\"January\",\"February\", \"March\", \"April\", \"May\", \"June\"])   \n",
    "print(months)\n",
    "months.remove(\"January\")    \n",
    "months.remove(\"May\")\n",
    "print(months)"
   ]
  },
  {
   "cell_type": "code",
   "execution_count": 18,
   "id": "0d135ef2",
   "metadata": {},
   "outputs": [],
   "source": [
    "#if the item does not exist in the set using remove() method will through an error."
   ]
  },
  {
   "cell_type": "markdown",
   "id": "d12d7e5e",
   "metadata": {},
   "source": [
    "###### pop() method"
   ]
  },
  {
   "cell_type": "code",
   "execution_count": 21,
   "id": "52e5ad9d",
   "metadata": {},
   "outputs": [
    {
     "name": "stdout",
     "output_type": "stream",
     "text": [
      "{'May', 'January', 'February', 'April', 'June', 'March'}\n",
      "{'January', 'February', 'April', 'June', 'March'}\n"
     ]
    }
   ],
   "source": [
    "#the pop() method will always remove the last item but the set is unordered, we can't determine which element will be popped from set.\n",
    "Months = set([\"January\",\"February\", \"March\", \"April\", \"May\", \"June\"])  \n",
    "print(Months)\n",
    "Months.pop() \n",
    "print(Months)"
   ]
  },
  {
   "cell_type": "code",
   "execution_count": 22,
   "id": "25eff6c9",
   "metadata": {},
   "outputs": [],
   "source": [
    "#the last element of the Month set is March but the pop() method removed the may\n",
    "#because the set is unordered and the pop() method could not determine the last element of the set."
   ]
  },
  {
   "cell_type": "markdown",
   "id": "0b67c7ef",
   "metadata": {},
   "source": [
    "###### clear() method"
   ]
  },
  {
   "cell_type": "code",
   "execution_count": 23,
   "id": "f867ff29",
   "metadata": {},
   "outputs": [
    {
     "name": "stdout",
     "output_type": "stream",
     "text": [
      "set()\n"
     ]
    }
   ],
   "source": [
    "#to remove all the items from the set.\n",
    "Months = set([\"January\",\"February\", \"March\", \"April\", \"May\", \"June\"])    \n",
    "Months.clear()   \n",
    "print(Months)"
   ]
  },
  {
   "cell_type": "markdown",
   "id": "fdbce9aa",
   "metadata": {},
   "source": [
    "### Set Operations"
   ]
  },
  {
   "cell_type": "markdown",
   "id": "fbfc0ed9",
   "metadata": {},
   "source": [
    "###### Union of sets"
   ]
  },
  {
   "cell_type": "code",
   "execution_count": 24,
   "id": "945ad001",
   "metadata": {},
   "outputs": [
    {
     "name": "stdout",
     "output_type": "stream",
     "text": [
      "{'Tuesday', 'Thursday', 'Monday', 'Friday', 'Sunday', 'Saturday', 'Wednesday'}\n"
     ]
    }
   ],
   "source": [
    "#The union of the two sets contains all the items that are present in both the sets.\n",
    "Days1 = {\"Monday\",\"Tuesday\",\"Wednesday\",\"Thursday\", \"Sunday\"}    \n",
    "Days2 = {\"Friday\",\"Saturday\",\"Sunday\"}    \n",
    "print(Days1|Days2)"
   ]
  },
  {
   "cell_type": "code",
   "execution_count": 25,
   "id": "ada1152c",
   "metadata": {},
   "outputs": [
    {
     "name": "stdout",
     "output_type": "stream",
     "text": [
      "{'Tuesday', 'Thursday', 'Monday', 'Friday', 'Sunday', 'Saturday', 'Wednesday'}\n"
     ]
    }
   ],
   "source": [
    "Days1 = {\"Monday\",\"Tuesday\",\"Wednesday\",\"Thursday\"}    \n",
    "Days2 = {\"Friday\",\"Saturday\",\"Sunday\"}    \n",
    "print(Days1.union(Days2)) "
   ]
  },
  {
   "cell_type": "markdown",
   "id": "ee825c46",
   "metadata": {},
   "source": [
    "###### Intersection of two sets"
   ]
  },
  {
   "cell_type": "code",
   "execution_count": 26,
   "id": "8a8c0c6b",
   "metadata": {},
   "outputs": [
    {
     "name": "stdout",
     "output_type": "stream",
     "text": [
      "{'Tuesday', 'Monday'}\n"
     ]
    }
   ],
   "source": [
    "#The intersection of the two sets is given as the set of the elements that common in both sets.\n",
    "Days1 = {\"Monday\",\"Tuesday\", \"Wednesday\", \"Thursday\"}    \n",
    "Days2 = {\"Monday\",\"Tuesday\",\"Sunday\", \"Friday\"}    \n",
    "print(Days1&Days2)"
   ]
  },
  {
   "cell_type": "code",
   "execution_count": 27,
   "id": "f026698f",
   "metadata": {},
   "outputs": [
    {
     "name": "stdout",
     "output_type": "stream",
     "text": [
      "{'David', 'Martin'}\n"
     ]
    }
   ],
   "source": [
    "set1 = {\"Devansh\",\"John\", \"David\", \"Martin\"}    \n",
    "set2 = {\"Steve\", \"Milan\", \"David\", \"Martin\"}    \n",
    "print(set1.intersection(set2))"
   ]
  },
  {
   "cell_type": "markdown",
   "id": "fd1a8ce5",
   "metadata": {},
   "source": [
    "###### The intersection_update() method"
   ]
  },
  {
   "cell_type": "code",
   "execution_count": 28,
   "id": "629c8a99",
   "metadata": {},
   "outputs": [
    {
     "name": "stdout",
     "output_type": "stream",
     "text": [
      "{'castle'}\n"
     ]
    }
   ],
   "source": [
    "#The intersection_update() method is different from the intersection() method since it modifies the original set by removing the unwanted items,\n",
    "#the intersection() method returns a new set.\n",
    "a = {\"Devansh\", \"bob\", \"castle\"}    \n",
    "b = {\"castle\", \"dude\", \"emyway\"}    \n",
    "c = {\"fuson\", \"gaurav\", \"castle\"}    \n",
    "a.intersection_update(b, c)  \n",
    "print(a)"
   ]
  },
  {
   "cell_type": "markdown",
   "id": "4d3f7ed0",
   "metadata": {},
   "source": [
    "###### Difference between the two sets"
   ]
  },
  {
   "cell_type": "code",
   "execution_count": 29,
   "id": "ccda2dfe",
   "metadata": {},
   "outputs": [
    {
     "name": "stdout",
     "output_type": "stream",
     "text": [
      "{'Thursday', 'Wednesday'}\n"
     ]
    }
   ],
   "source": [
    "#A-B denotes the resulting set will be obtained that element of A, which is not present in the set B.\n",
    "Days1 = {\"Monday\",  \"Tuesday\", \"Wednesday\", \"Thursday\"}    \n",
    "Days2 = {\"Monday\", \"Tuesday\", \"Sunday\"}    \n",
    "print(Days1-Days2)"
   ]
  },
  {
   "cell_type": "code",
   "execution_count": 30,
   "id": "450bfd37",
   "metadata": {},
   "outputs": [
    {
     "name": "stdout",
     "output_type": "stream",
     "text": [
      "{'Thursday', 'Wednesday'}\n"
     ]
    }
   ],
   "source": [
    "Days1 = {\"Monday\",  \"Tuesday\", \"Wednesday\", \"Thursday\"}    \n",
    "Days2 = {\"Monday\", \"Tuesday\", \"Sunday\"}    \n",
    "print(Days1.difference(Days2))"
   ]
  },
  {
   "cell_type": "markdown",
   "id": "91c576a0",
   "metadata": {},
   "source": [
    "###### Symmetric Difference of two sets"
   ]
  },
  {
   "cell_type": "code",
   "execution_count": 31,
   "id": "51586789",
   "metadata": {},
   "outputs": [
    {
     "name": "stdout",
     "output_type": "stream",
     "text": [
      "{3, 4, 5, 6, 8, 9, 10}\n"
     ]
    }
   ],
   "source": [
    "#Symmetric difference of sets, it removes that element which is present in both sets.\n",
    "a = {1,2,3,4,5,6}  \n",
    "b = {1,2,9,8,10}  \n",
    "c = a^b  \n",
    "print(c)  "
   ]
  },
  {
   "cell_type": "code",
   "execution_count": 32,
   "id": "4f2e260b",
   "metadata": {},
   "outputs": [
    {
     "name": "stdout",
     "output_type": "stream",
     "text": [
      "{3, 4, 5, 6, 8, 9, 10}\n"
     ]
    }
   ],
   "source": [
    "a = {1,2,3,4,5,6}  \n",
    "b = {1,2,9,8,10}  \n",
    "c = a.symmetric_difference(b)  \n",
    "print(c) "
   ]
  },
  {
   "cell_type": "markdown",
   "id": "c1f8d474",
   "metadata": {},
   "source": [
    "###### Set comparisons"
   ]
  },
  {
   "cell_type": "code",
   "execution_count": 33,
   "id": "e3513634",
   "metadata": {},
   "outputs": [
    {
     "name": "stdout",
     "output_type": "stream",
     "text": [
      "True\n",
      "False\n",
      "False\n"
     ]
    }
   ],
   "source": [
    "#Python use the comparison operators i.e., <, >, <=, >= , == with the sets by using which we can check whether a set is a subset, superset, or equivalent to other set. \n",
    "#The boolean true or false is returned depending upon the items present inside the sets.\n",
    "Days1 = {\"Monday\",  \"Tuesday\", \"Wednesday\", \"Thursday\"}    \n",
    "Days2 = {\"Monday\", \"Tuesday\"}    \n",
    "Days3 = {\"Monday\", \"Tuesday\", \"Friday\"}    \n",
    "print (Days1>Days2)  \n",
    "print (Days1<Days2)  \n",
    "print (Days2 == Days3) "
   ]
  },
  {
   "cell_type": "markdown",
   "id": "8544fffe",
   "metadata": {},
   "source": [
    "### FrozenSets"
   ]
  },
  {
   "cell_type": "code",
   "execution_count": 34,
   "id": "556f1655",
   "metadata": {},
   "outputs": [],
   "source": [
    "#The frozen sets are the immutable form of the normal sets, i.e., the items of the frozen set cannot be changed and therefore it can be used as a key in the dictionary.\n",
    "#The elements of the frozen set cannot be changed after the creation.\n",
    "#We cannot change or append the content of the frozen sets by using the methods like add() or remove()."
   ]
  },
  {
   "cell_type": "code",
   "execution_count": 35,
   "id": "69af43ad",
   "metadata": {},
   "outputs": [
    {
     "name": "stdout",
     "output_type": "stream",
     "text": [
      "<class 'frozenset'>\n"
     ]
    }
   ],
   "source": [
    "Frozenset = frozenset([1,2,3,4,5])     \n",
    "print(type(Frozenset)) "
   ]
  },
  {
   "cell_type": "code",
   "execution_count": 36,
   "id": "f2a2cb7a",
   "metadata": {},
   "outputs": [
    {
     "ename": "AttributeError",
     "evalue": "'frozenset' object has no attribute 'add'",
     "output_type": "error",
     "traceback": [
      "\u001b[1;31m---------------------------------------------------------------------------\u001b[0m",
      "\u001b[1;31mAttributeError\u001b[0m                            Traceback (most recent call last)",
      "\u001b[1;32m<ipython-input-36-cd915779284f>\u001b[0m in \u001b[0;36m<module>\u001b[1;34m\u001b[0m\n\u001b[1;32m----> 1\u001b[1;33m \u001b[0mFrozenset\u001b[0m\u001b[1;33m.\u001b[0m\u001b[0madd\u001b[0m\u001b[1;33m(\u001b[0m\u001b[1;36m6\u001b[0m\u001b[1;33m)\u001b[0m\u001b[1;33m\u001b[0m\u001b[1;33m\u001b[0m\u001b[0m\n\u001b[0m\u001b[0;32m      2\u001b[0m \u001b[1;31m#gives an error since we cannot change the content of Frozenset after creation\u001b[0m\u001b[1;33m\u001b[0m\u001b[1;33m\u001b[0m\u001b[1;33m\u001b[0m\u001b[0m\n",
      "\u001b[1;31mAttributeError\u001b[0m: 'frozenset' object has no attribute 'add'"
     ]
    }
   ],
   "source": [
    "Frozenset.add(6)\n",
    "#gives an error since we cannot change the content of Frozenset after creation"
   ]
  },
  {
   "cell_type": "markdown",
   "id": "16f1ef42",
   "metadata": {},
   "source": [
    "###### Frozenset for the dictionary"
   ]
  },
  {
   "cell_type": "code",
   "execution_count": 38,
   "id": "d5f6f1c3",
   "metadata": {},
   "outputs": [
    {
     "name": "stdout",
     "output_type": "stream",
     "text": [
      "<class 'dict'>\n",
      "<class 'frozenset'>\n",
      "ID\n",
      "Country\n",
      "Name\n"
     ]
    }
   ],
   "source": [
    "#If we pass the dictionary as the sequence inside the frozenset() method, it will take only the keys from the dictionary and returns a frozenset that contains the key of the dictionary as its elements.\n",
    "Dictionary = {\"Name\":\"John\", \"Country\":\"USA\", \"ID\":101}     \n",
    "print(type(Dictionary)) \n",
    "Frozenset = frozenset(Dictionary); #Frozenset will contain the keys of the dictionary    \n",
    "print(type(Frozenset))    \n",
    "for i in Frozenset:     \n",
    "    print(i)   "
   ]
  },
  {
   "cell_type": "code",
   "execution_count": null,
   "id": "f5e47c23",
   "metadata": {},
   "outputs": [],
   "source": []
  }
 ],
 "metadata": {
  "kernelspec": {
   "display_name": "Python 3",
   "language": "python",
   "name": "python3"
  },
  "language_info": {
   "codemirror_mode": {
    "name": "ipython",
    "version": 3
   },
   "file_extension": ".py",
   "mimetype": "text/x-python",
   "name": "python",
   "nbconvert_exporter": "python",
   "pygments_lexer": "ipython3",
   "version": "3.8.8"
  }
 },
 "nbformat": 4,
 "nbformat_minor": 5
}
