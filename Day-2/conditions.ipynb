{
 "cells": [
  {
   "cell_type": "markdown",
   "metadata": {},
   "source": [
    "## $$Conditional\\ statements $$"
   ]
  },
  {
   "cell_type": "markdown",
   "metadata": {},
   "source": [
    "# Introducing Indentation"
   ]
  },
  {
   "cell_type": "markdown",
   "metadata": {},
   "source": [
    "<li>In simple terms indentation refers to adding white space before a statement</li>\n",
    "<li>Indentation is a very important concept of Python because without proper indenting the Python code, you will end up seeing IndentationError and the code will not get compiled.</li>"
   ]
  },
  {
   "cell_type": "code",
   "execution_count": 1,
   "metadata": {},
   "outputs": [
    {
     "ename": "IndentationError",
     "evalue": "expected an indented block (<ipython-input-1-98c8597e3967>, line 5)",
     "output_type": "error",
     "traceback": [
      "\u001b[1;36m  File \u001b[1;32m\"<ipython-input-1-98c8597e3967>\"\u001b[1;36m, line \u001b[1;32m5\u001b[0m\n\u001b[1;33m    print('Number is positive')\u001b[0m\n\u001b[1;37m    ^\u001b[0m\n\u001b[1;31mIndentationError\u001b[0m\u001b[1;31m:\u001b[0m expected an indented block\n"
     ]
    }
   ],
   "source": [
    "# what happens when we dont give indentation.\n",
    "num = True\n",
    "\n",
    "if(num):\n",
    "print('successful')\n",
    "\n",
    "print('This line will print always')\n"
   ]
  },
  {
   "cell_type": "markdown",
   "metadata": {},
   "source": [
    "## if Statement"
   ]
  },
  {
   "cell_type": "markdown",
   "metadata": {},
   "source": [
    "<img src = '1.jpg'>"
   ]
  },
  {
   "cell_type": "code",
   "execution_count": 2,
   "metadata": {
    "ExecuteTime": {
     "end_time": "2018-08-21T08:16:07.671991Z",
     "start_time": "2018-08-21T08:16:07.666968Z"
    }
   },
   "outputs": [
    {
     "name": "stdout",
     "output_type": "stream",
     "text": [
      "Number is positive\n",
      "This line will print always\n"
     ]
    }
   ],
   "source": [
    "# we are checking the condition by giving True. if we give false or o or None the condition fails\n",
    "num = True\n",
    "\n",
    "if(num):\n",
    "    print('Number is positive')\n",
    "\n",
    "print('This line will print always')\n"
   ]
  },
  {
   "cell_type": "markdown",
   "metadata": {},
   "source": [
    "#### taking the input from user"
   ]
  },
  {
   "cell_type": "code",
   "execution_count": 4,
   "metadata": {},
   "outputs": [
    {
     "name": "stdout",
     "output_type": "stream",
     "text": [
      "5\n",
      "5 is positive.\n"
     ]
    }
   ],
   "source": [
    "# give a numerical number.\n",
    "num = int(input())\n",
    "if num > 0:\n",
    "    print(\"{} is positive.\".format(num))\n"
   ]
  },
  {
   "cell_type": "code",
   "execution_count": 5,
   "metadata": {},
   "outputs": [
    {
     "name": "stdout",
     "output_type": "stream",
     "text": [
      "ABCDEF\n"
     ]
    }
   ],
   "source": [
    "# if condition in strings\n",
    "string = \"abcdef\"\n",
    "if string.islower():\n",
    "    print(string.upper())"
   ]
  },
  {
   "cell_type": "code",
   "execution_count": 9,
   "metadata": {},
   "outputs": [
    {
     "name": "stdout",
     "output_type": "stream",
     "text": [
      "4\n",
      "condition2\n"
     ]
    }
   ],
   "source": [
    "num = int(input())\n",
    "\n",
    "if num > 8:\n",
    "    print(\"condition1\")\n",
    "if num < 10:\n",
    "    print(\"condition2\")"
   ]
  },
  {
   "cell_type": "markdown",
   "metadata": {},
   "source": [
    "### Nested if statement"
   ]
  },
  {
   "cell_type": "code",
   "execution_count": 2,
   "metadata": {},
   "outputs": [
    {
     "name": "stdout",
     "output_type": "stream",
     "text": [
      "Positive number\n"
     ]
    }
   ],
   "source": [
    "num = 8\n",
    "if num >= 0:\n",
    "    if num == 0:\n",
    "        print(\"zero\")\n",
    "    else:\n",
    "        print(\"Positive number\")\n",
    "else:\n",
    "    print(\"Negative number\")"
   ]
  },
  {
   "cell_type": "markdown",
   "metadata": {},
   "source": [
    "## if.....else Statement"
   ]
  },
  {
   "cell_type": "markdown",
   "metadata": {},
   "source": [
    "<img src = '2.jpg'>"
   ]
  },
  {
   "cell_type": "code",
   "execution_count": 6,
   "metadata": {
    "ExecuteTime": {
     "end_time": "2018-08-21T08:18:21.298954Z",
     "start_time": "2018-08-21T08:18:21.292898Z"
    }
   },
   "outputs": [
    {
     "name": "stdout",
     "output_type": "stream",
     "text": [
      "Negative\n",
      "This line will print anyways\n"
     ]
    }
   ],
   "source": [
    "# if - else statement on numerical values. \n",
    "num = -1\n",
    "\n",
    "if(num >= 0):\n",
    "    print('Positive')\n",
    "else:\n",
    "    print('Negative')\n",
    "print('This line will print anyways')"
   ]
  },
  {
   "cell_type": "code",
   "execution_count": 7,
   "metadata": {},
   "outputs": [
    {
     "name": "stdout",
     "output_type": "stream",
     "text": [
      "yes\n"
     ]
    }
   ],
   "source": [
    "string = \"python123\"\n",
    "\n",
    "if string.isalnum():\n",
    "    print(\"yes\")"
   ]
  },
  {
   "cell_type": "markdown",
   "metadata": {},
   "source": [
    "### checking if condition with operators"
   ]
  },
  {
   "cell_type": "code",
   "execution_count": 8,
   "metadata": {},
   "outputs": [
    {
     "name": "stdout",
     "output_type": "stream",
     "text": [
      "5\n",
      "5 is a single digit\n"
     ]
    }
   ],
   "source": [
    "# checking the number with operators.\n",
    "num = int(input())\n",
    "\n",
    "if num > 0 and num < 9:\n",
    "    print(\"{} is a single digit\".format(num))\n",
    "else:\n",
    "    print(\"{} is not a single digit\".format(num))"
   ]
  },
  {
   "cell_type": "markdown",
   "metadata": {},
   "source": [
    "## if......elif......else Statement"
   ]
  },
  {
   "cell_type": "markdown",
   "metadata": {},
   "source": [
    "<img src = '3.jpg'>"
   ]
  },
  {
   "cell_type": "code",
   "execution_count": 9,
   "metadata": {
    "ExecuteTime": {
     "end_time": "2018-08-21T08:21:16.858399Z",
     "start_time": "2018-08-21T08:21:16.851413Z"
    },
    "scrolled": true
   },
   "outputs": [
    {
     "name": "stdout",
     "output_type": "stream",
     "text": [
      "4\n",
      "4 is Positive\n"
     ]
    }
   ],
   "source": [
    "# if - else - elif statement\n",
    "num = int(input())\n",
    "\n",
    "if(num > 0):\n",
    "    print('{} is Positive'.format(num))\n",
    "elif(num == 0):\n",
    "    print('ZERO')\n",
    "else:\n",
    "    print('{} is Negative'.format(num))"
   ]
  },
  {
   "cell_type": "code",
   "execution_count": 10,
   "metadata": {
    "ExecuteTime": {
     "end_time": "2018-08-21T08:23:53.893361Z",
     "start_time": "2018-08-21T08:23:53.886972Z"
    }
   },
   "outputs": [
    {
     "name": "stdout",
     "output_type": "stream",
     "text": [
      "44\n",
      "Failing grade\n"
     ]
    }
   ],
   "source": [
    "# Try 90, 78, 50, 9999\n",
    "\n",
    "grade = int(input())\n",
    "\n",
    "if grade >= 90 and grade<=100:\n",
    "    print(\"A grade\")\n",
    "\n",
    "elif grade >=80 and grade<=90:\n",
    "    print(\"B grade\")\n",
    "\n",
    "elif grade >=70:\n",
    "    print(\"C grade\")\n",
    "\n",
    "elif grade >= 65:\n",
    "    print(\"D grade\")\n",
    "\n",
    "else:\n",
    "    print(\"Failing grade\")"
   ]
  },
  {
   "cell_type": "markdown",
   "metadata": {},
   "source": [
    "## Nested if - else Statements"
   ]
  },
  {
   "cell_type": "code",
   "execution_count": 11,
   "metadata": {
    "ExecuteTime": {
     "end_time": "2018-08-21T08:26:29.262332Z",
     "start_time": "2018-08-21T08:26:29.255969Z"
    }
   },
   "outputs": [
    {
     "name": "stdout",
     "output_type": "stream",
     "text": [
      "Zero\n"
     ]
    }
   ],
   "source": [
    "num = 0\n",
    "\n",
    "if num >= 0:\n",
    "    if num == 0:\n",
    "        print('Zero')\n",
    "    else:\n",
    "        print('Positive')\n",
    "else:\n",
    "    print('Negative')"
   ]
  },
  {
   "cell_type": "code",
   "execution_count": 12,
   "metadata": {},
   "outputs": [
    {
     "name": "stdout",
     "output_type": "stream",
     "text": [
      "666\n",
      "Enter a value below 100 and greater than 0\n"
     ]
    }
   ],
   "source": [
    "# Try 90, 78, 50, 9999\n",
    "\n",
    "grade = int(input())\n",
    "\n",
    "if grade <= 100:\n",
    "\n",
    "    if grade >= 90 and grade<=100:\n",
    "        print(\"A grade\")\n",
    "\n",
    "    elif grade >=80 and grade<=90:\n",
    "        print(\"B grade\")\n",
    "\n",
    "    elif grade >=70:\n",
    "        print(\"C grade\")\n",
    "\n",
    "    elif grade >= 65:\n",
    "        print(\"D grade\")\n",
    "\n",
    "    else:\n",
    "        print(\"Failing grade\")\n",
    "else:\n",
    "    print(\"Enter a value below 100 and greater than 0\")"
   ]
  },
  {
   "cell_type": "code",
   "execution_count": 13,
   "metadata": {
    "ExecuteTime": {
     "end_time": "2018-08-21T08:29:22.289092Z",
     "start_time": "2018-08-21T08:29:22.277129Z"
    },
    "scrolled": true
   },
   "outputs": [
    {
     "name": "stdout",
     "output_type": "stream",
     "text": [
      "99\n",
      "Passing grade of: A\n"
     ]
    }
   ],
   "source": [
    "grade = int(input())\n",
    "\n",
    "if grade >= 65 and grade<=100:\n",
    "    print(\"Passing grade of:\", end = ' ')\n",
    "\n",
    "    if grade >= 90:\n",
    "        print(\"A\")\n",
    "\n",
    "    elif grade >=80:\n",
    "        print(\"B\")\n",
    "\n",
    "    elif grade >=70:\n",
    "        print(\"C\")\n",
    "\n",
    "    elif grade >= 65:\n",
    "        print(\"D\")\n",
    "\n",
    "elif grade>100:\n",
    "    print('Enter a value less than 100')\n",
    "        \n",
    "else:\n",
    "    print(\"Failing grade\")"
   ]
  },
  {
   "cell_type": "code",
   "execution_count": null,
   "metadata": {},
   "outputs": [],
   "source": []
  }
 ],
 "metadata": {
  "kernelspec": {
   "display_name": "Python 3",
   "language": "python",
   "name": "python3"
  },
  "language_info": {
   "codemirror_mode": {
    "name": "ipython",
    "version": 3
   },
   "file_extension": ".py",
   "mimetype": "text/x-python",
   "name": "python",
   "nbconvert_exporter": "python",
   "pygments_lexer": "ipython3",
   "version": "3.8.8"
  },
  "toc": {
   "nav_menu": {},
   "number_sections": true,
   "sideBar": true,
   "skip_h1_title": false,
   "title_cell": "Table of Contents",
   "title_sidebar": "Contents",
   "toc_cell": false,
   "toc_position": {},
   "toc_section_display": true,
   "toc_window_display": false
  },
  "varInspector": {
   "cols": {
    "lenName": 16,
    "lenType": 16,
    "lenVar": 40
   },
   "kernels_config": {
    "python": {
     "delete_cmd_postfix": "",
     "delete_cmd_prefix": "del ",
     "library": "var_list.py",
     "varRefreshCmd": "print(var_dic_list())"
    },
    "r": {
     "delete_cmd_postfix": ") ",
     "delete_cmd_prefix": "rm(",
     "library": "var_list.r",
     "varRefreshCmd": "cat(var_dic_list()) "
    }
   },
   "types_to_exclude": [
    "module",
    "function",
    "builtin_function_or_method",
    "instance",
    "_Feature"
   ],
   "window_display": false
  }
 },
 "nbformat": 4,
 "nbformat_minor": 2
}
