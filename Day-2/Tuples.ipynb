{
 "cells": [
  {
   "cell_type": "markdown",
   "id": "3b6906c1",
   "metadata": {},
   "source": [
    "### Definition"
   ]
  },
  {
   "cell_type": "code",
   "execution_count": 2,
   "id": "46224483",
   "metadata": {},
   "outputs": [],
   "source": [
    "# Datastructure in python. It is another sequence data type that is similar to the list.\n",
    "# Unlike list tuples are enclosed within parameters,() and values seperated by commas\n",
    "# value that make up tuple are called its elements. Elements need not be of the same datatype, they can be hetrogeneous"
   ]
  },
  {
   "cell_type": "code",
   "execution_count": 3,
   "id": "12148254",
   "metadata": {},
   "outputs": [],
   "source": [
    "#tuples are immutable: we canot perform insert, update and delete operations"
   ]
  },
  {
   "cell_type": "markdown",
   "id": "42eefe9b",
   "metadata": {},
   "source": [
    "### Tuple creation"
   ]
  },
  {
   "cell_type": "code",
   "execution_count": 7,
   "id": "1bbc7163",
   "metadata": {},
   "outputs": [
    {
     "data": {
      "text/plain": [
       "(0, 1, 2, 3, 4, 5, 6)"
      ]
     },
     "execution_count": 7,
     "metadata": {},
     "output_type": "execute_result"
    }
   ],
   "source": [
    "digits = (0,1,2,3,4,5,6)\n",
    "digits"
   ]
  },
  {
   "cell_type": "code",
   "execution_count": 10,
   "id": "b5f29b74",
   "metadata": {},
   "outputs": [
    {
     "data": {
      "text/plain": [
       "()"
      ]
     },
     "execution_count": 10,
     "metadata": {},
     "output_type": "execute_result"
    }
   ],
   "source": [
    "# an empty tuple\n",
    "tup =()\n",
    "tup"
   ]
  },
  {
   "cell_type": "code",
   "execution_count": 6,
   "id": "1de708ca",
   "metadata": {},
   "outputs": [
    {
     "data": {
      "text/plain": [
       "('hello', 1, 2, 6.5, 'Python')"
      ]
     },
     "execution_count": 6,
     "metadata": {},
     "output_type": "execute_result"
    }
   ],
   "source": [
    "#hetrogenous tuple\n",
    "tup = ('hello',1,2,6.5,'Python')\n",
    "tup"
   ]
  },
  {
   "cell_type": "code",
   "execution_count": 11,
   "id": "75367ebd",
   "metadata": {},
   "outputs": [
    {
     "data": {
      "text/plain": [
       "((1, 0, 2), (4, 5, 6))"
      ]
     },
     "execution_count": 11,
     "metadata": {},
     "output_type": "execute_result"
    }
   ],
   "source": [
    "#nested tuples - tuples inside a tuple\n",
    "t = ((1,0,2),(4,5,6))\n",
    "t"
   ]
  },
  {
   "cell_type": "code",
   "execution_count": 12,
   "id": "6e142099",
   "metadata": {},
   "outputs": [
    {
     "data": {
      "text/plain": [
       "('a', 'b', 'c', [10, 20, 30])"
      ]
     },
     "execution_count": 12,
     "metadata": {},
     "output_type": "execute_result"
    }
   ],
   "source": [
    "#tuple containing strings and list\n",
    "t1 = ('a','b','c',[10,20,30])\n",
    "t1"
   ]
  },
  {
   "cell_type": "markdown",
   "id": "1b2fa30a",
   "metadata": {},
   "source": [
    "#### Singleton tuple"
   ]
  },
  {
   "cell_type": "code",
   "execution_count": 15,
   "id": "74a22af4",
   "metadata": {},
   "outputs": [
    {
     "data": {
      "text/plain": [
       "(70,)"
      ]
     },
     "execution_count": 15,
     "metadata": {},
     "output_type": "execute_result"
    }
   ],
   "source": [
    "# if a tuple comprises a single element, the elemnt should be followed by a comma to distingush a tuple from a parenthesized expression\n",
    "tup = (70,)\n",
    "tup"
   ]
  },
  {
   "cell_type": "markdown",
   "id": "44a42143",
   "metadata": {},
   "source": [
    "#### Creating tuple using built-in function tuple()"
   ]
  },
  {
   "cell_type": "code",
   "execution_count": 23,
   "id": "9b6dd975",
   "metadata": {},
   "outputs": [
    {
     "data": {
      "text/plain": [
       "()"
      ]
     },
     "execution_count": 23,
     "metadata": {},
     "output_type": "execute_result"
    }
   ],
   "source": [
    "#An empty tuple can be created using tuple () function\n",
    "t = tuple()\n",
    "t"
   ]
  },
  {
   "cell_type": "code",
   "execution_count": 21,
   "id": "08eb7012",
   "metadata": {},
   "outputs": [
    {
     "name": "stdout",
     "output_type": "stream",
     "text": [
      "('apple', 'banana', 'cherry')\n"
     ]
    },
    {
     "data": {
      "text/plain": [
       "tuple"
      ]
     },
     "execution_count": 21,
     "metadata": {},
     "output_type": "execute_result"
    }
   ],
   "source": [
    "# to create tuple containing string values using function tuple()\n",
    "mytup = tuple(('apple','banana','cherry'))\n",
    "print(mytup)\n",
    "type(mytup)\n"
   ]
  },
  {
   "cell_type": "code",
   "execution_count": 26,
   "id": "74f9110c",
   "metadata": {},
   "outputs": [
    {
     "name": "stdout",
     "output_type": "stream",
     "text": [
      "Enter any number: 3\n",
      "Enter Number: 100\n",
      "Enter Number: 200\n",
      "Enter Number: 300\n",
      "Output is \n",
      "('100', '200', '300')\n"
     ]
    }
   ],
   "source": [
    "#creating a tuple by accepting user input\n",
    "#We can create a tuple by fetching its elements from th euser. It can be done either by while/for loop\n",
    "t = tuple()\n",
    "n = int(input(\"Enter any number: \"))\n",
    "for i in range (n):\n",
    "    a = input(\"Enter Number: \")\n",
    "    t = t +(a,)\n",
    "print(\"Output is \")\n",
    "print(t)"
   ]
  },
  {
   "cell_type": "markdown",
   "id": "aab0e6d3",
   "metadata": {},
   "source": [
    "### Nesting of tuples"
   ]
  },
  {
   "cell_type": "code",
   "execution_count": 30,
   "id": "4a4f5dd4",
   "metadata": {},
   "outputs": [
    {
     "name": "stdout",
     "output_type": "stream",
     "text": [
      "((0, 1, 2, 3), ('python', 'book'))\n"
     ]
    }
   ],
   "source": [
    "#tuples can be placed inside other tuples\n",
    "t1 = (0,1,2,3)\n",
    "t2 =('python', 'book')\n",
    "t3 = (t1, t2)\n",
    "print(t3)"
   ]
  },
  {
   "cell_type": "markdown",
   "id": "32d945c0",
   "metadata": {},
   "source": [
    "### Accessing and traversing a tuple"
   ]
  },
  {
   "cell_type": "code",
   "execution_count": 31,
   "id": "e6038ff0",
   "metadata": {},
   "outputs": [
    {
     "data": {
      "text/plain": [
       "10"
      ]
     },
     "execution_count": 31,
     "metadata": {},
     "output_type": "execute_result"
    }
   ],
   "source": [
    "#individula elements of a tuple can be accessed through indexes\n",
    "#elements of a tuple can be accessed using an indexing method\n",
    "t = (10,20,30,40,50,60,70,80,90)\n",
    "t[0]"
   ]
  },
  {
   "cell_type": "code",
   "execution_count": 32,
   "id": "1329e9f9",
   "metadata": {},
   "outputs": [
    {
     "data": {
      "text/plain": [
       "60"
      ]
     },
     "execution_count": 32,
     "metadata": {},
     "output_type": "execute_result"
    }
   ],
   "source": [
    "t[5]"
   ]
  },
  {
   "cell_type": "code",
   "execution_count": 33,
   "id": "e9294092",
   "metadata": {},
   "outputs": [
    {
     "data": {
      "text/plain": [
       "50"
      ]
     },
     "execution_count": 33,
     "metadata": {},
     "output_type": "execute_result"
    }
   ],
   "source": [
    "t[-5]"
   ]
  },
  {
   "cell_type": "markdown",
   "id": "cf702258",
   "metadata": {},
   "source": [
    "#### Traversing a tuple"
   ]
  },
  {
   "cell_type": "code",
   "execution_count": 34,
   "id": "29d5a686",
   "metadata": {},
   "outputs": [
    {
     "name": "stdout",
     "output_type": "stream",
     "text": [
      "p\n",
      "y\n",
      "t\n",
      "h\n",
      "o\n",
      "n\n"
     ]
    }
   ],
   "source": [
    "#traversing means accessing each element of a tuple. This can be done by using either for or while loop\n",
    "t = ('p','y','t','h','o','n')\n",
    "n = len(t)\n",
    "for i in range(n):\n",
    "    print(t[i])"
   ]
  },
  {
   "cell_type": "markdown",
   "id": "d2dbdc77",
   "metadata": {},
   "source": [
    "### Tuple Slicing"
   ]
  },
  {
   "cell_type": "code",
   "execution_count": 35,
   "id": "55231f4a",
   "metadata": {},
   "outputs": [
    {
     "data": {
      "text/plain": [
       "(60, 70, 80, 90)"
      ]
     },
     "execution_count": 35,
     "metadata": {},
     "output_type": "execute_result"
    }
   ],
   "source": [
    "t1 = (10,20,30,40,50,60,70,80,90)\n",
    "t1[5:]"
   ]
  },
  {
   "cell_type": "code",
   "execution_count": 42,
   "id": "9de7a7f2",
   "metadata": {},
   "outputs": [
    {
     "data": {
      "text/plain": [
       "(20, 30, 40)"
      ]
     },
     "execution_count": 42,
     "metadata": {},
     "output_type": "execute_result"
    }
   ],
   "source": [
    "t1[-8:-5]"
   ]
  },
  {
   "cell_type": "code",
   "execution_count": 40,
   "id": "b5960874",
   "metadata": {},
   "outputs": [
    {
     "data": {
      "text/plain": [
       "('Z',)"
      ]
     },
     "execution_count": 40,
     "metadata": {},
     "output_type": "execute_result"
    }
   ],
   "source": [
    "t2 = ('My Book',[1,2,3],'Z',(3,4,6), 'Desk', 50)\n",
    "t2[2:3]"
   ]
  },
  {
   "cell_type": "code",
   "execution_count": 41,
   "id": "41a57b21",
   "metadata": {},
   "outputs": [
    {
     "data": {
      "text/plain": [
       "4"
      ]
     },
     "execution_count": 41,
     "metadata": {},
     "output_type": "execute_result"
    }
   ],
   "source": [
    "t2[3][1]"
   ]
  },
  {
   "cell_type": "markdown",
   "id": "7189e318",
   "metadata": {},
   "source": [
    "#### Tuple Addition/concatenation"
   ]
  },
  {
   "cell_type": "code",
   "execution_count": 43,
   "id": "8f40e6c6",
   "metadata": {},
   "outputs": [
    {
     "name": "stdout",
     "output_type": "stream",
     "text": [
      "(1, 2, 3, 4, 5, 6, 7, 8)\n"
     ]
    }
   ],
   "source": [
    "x = (1,2,3,4)\n",
    "y =(5,6,7,8)\n",
    "z = x+y\n",
    "print(z)"
   ]
  },
  {
   "cell_type": "code",
   "execution_count": 44,
   "id": "4d9405ce",
   "metadata": {},
   "outputs": [
    {
     "data": {
      "text/plain": [
       "(2, 3, 5, 6)"
      ]
     },
     "execution_count": 44,
     "metadata": {},
     "output_type": "execute_result"
    }
   ],
   "source": [
    "tup1 = (1,2,3,4)\n",
    "tup1[1:3]+(5,6)"
   ]
  },
  {
   "cell_type": "code",
   "execution_count": 45,
   "id": "7d671168",
   "metadata": {},
   "outputs": [
    {
     "ename": "TypeError",
     "evalue": "can only concatenate tuple (not \"int\") to tuple",
     "output_type": "error",
     "traceback": [
      "\u001b[1;31m---------------------------------------------------------------------------\u001b[0m",
      "\u001b[1;31mTypeError\u001b[0m                                 Traceback (most recent call last)",
      "\u001b[1;32m<ipython-input-45-cd723ffbbdf9>\u001b[0m in \u001b[0;36m<module>\u001b[1;34m\u001b[0m\n\u001b[0;32m      1\u001b[0m \u001b[0mt4\u001b[0m \u001b[1;33m=\u001b[0m \u001b[1;33m(\u001b[0m\u001b[1;36m1\u001b[0m\u001b[1;33m,\u001b[0m\u001b[1;36m2\u001b[0m\u001b[1;33m,\u001b[0m\u001b[1;34m'a'\u001b[0m\u001b[1;33m,\u001b[0m\u001b[1;36m4\u001b[0m\u001b[1;33m)\u001b[0m\u001b[1;33m\u001b[0m\u001b[1;33m\u001b[0m\u001b[0m\n\u001b[1;32m----> 2\u001b[1;33m \u001b[0mt4\u001b[0m\u001b[1;33m[\u001b[0m\u001b[1;33m-\u001b[0m\u001b[1;36m3\u001b[0m\u001b[1;33m:\u001b[0m\u001b[1;33m-\u001b[0m\u001b[1;36m1\u001b[0m\u001b[1;33m]\u001b[0m\u001b[1;33m+\u001b[0m\u001b[0mt4\u001b[0m\u001b[1;33m[\u001b[0m\u001b[1;36m0\u001b[0m\u001b[1;33m]\u001b[0m\u001b[1;33m\u001b[0m\u001b[1;33m\u001b[0m\u001b[0m\n\u001b[0m",
      "\u001b[1;31mTypeError\u001b[0m: can only concatenate tuple (not \"int\") to tuple"
     ]
    }
   ],
   "source": [
    "# we cnnot add int to tuple. it will give error\n",
    "t4 = (1,2,'a',4)\n",
    "t4[-3:-1]+t4[0]"
   ]
  },
  {
   "cell_type": "markdown",
   "id": "1ff054ff",
   "metadata": {},
   "source": [
    "###### + operator performs concatenation with tuples only"
   ]
  },
  {
   "cell_type": "markdown",
   "id": "a17fcd45",
   "metadata": {},
   "source": [
    "### Tuple multiplication"
   ]
  },
  {
   "cell_type": "code",
   "execution_count": 46,
   "id": "fde23073",
   "metadata": {},
   "outputs": [],
   "source": [
    "# * is used for repetation of the tuple"
   ]
  },
  {
   "cell_type": "code",
   "execution_count": 47,
   "id": "7e954255",
   "metadata": {},
   "outputs": [
    {
     "name": "stdout",
     "output_type": "stream",
     "text": [
      "(1, 2, 3, 4, 1, 2, 3, 4)\n"
     ]
    }
   ],
   "source": [
    "x = (1,2,3,4)\n",
    "z = x*2\n",
    "print(z)"
   ]
  },
  {
   "cell_type": "code",
   "execution_count": 48,
   "id": "fc6990f7",
   "metadata": {},
   "outputs": [
    {
     "data": {
      "text/plain": [
       "('bye!', 'bye!', 'bye!', 'bye!')"
      ]
     },
     "execution_count": 48,
     "metadata": {},
     "output_type": "execute_result"
    }
   ],
   "source": [
    "('bye!',)*4"
   ]
  },
  {
   "cell_type": "code",
   "execution_count": 49,
   "id": "9291b15e",
   "metadata": {},
   "outputs": [
    {
     "data": {
      "text/plain": [
       "(2, 3, 2, 3, 2, 3)"
      ]
     },
     "execution_count": 49,
     "metadata": {},
     "output_type": "execute_result"
    }
   ],
   "source": [
    "tup =(1,2,3,4)\n",
    "tup[1:3]*3"
   ]
  },
  {
   "cell_type": "markdown",
   "id": "205bf0df",
   "metadata": {},
   "source": [
    "### 'in' and 'not in' membership opertaor"
   ]
  },
  {
   "cell_type": "code",
   "execution_count": 50,
   "id": "e4eba8b4",
   "metadata": {},
   "outputs": [
    {
     "data": {
      "text/plain": [
       "True"
      ]
     },
     "execution_count": 50,
     "metadata": {},
     "output_type": "execute_result"
    }
   ],
   "source": [
    "4 in (2,4,6,8)"
   ]
  },
  {
   "cell_type": "code",
   "execution_count": 51,
   "id": "e002e6e7",
   "metadata": {},
   "outputs": [
    {
     "data": {
      "text/plain": [
       "False"
      ]
     },
     "execution_count": 51,
     "metadata": {},
     "output_type": "execute_result"
    }
   ],
   "source": [
    "5 in(2,4,6,8)"
   ]
  },
  {
   "cell_type": "code",
   "execution_count": 52,
   "id": "b9cdaf92",
   "metadata": {},
   "outputs": [
    {
     "data": {
      "text/plain": [
       "True"
      ]
     },
     "execution_count": 52,
     "metadata": {},
     "output_type": "execute_result"
    }
   ],
   "source": [
    "10 not in (2,4,6,8)"
   ]
  },
  {
   "cell_type": "code",
   "execution_count": 53,
   "id": "02ab0893",
   "metadata": {},
   "outputs": [
    {
     "data": {
      "text/plain": [
       "False"
      ]
     },
     "execution_count": 53,
     "metadata": {},
     "output_type": "execute_result"
    }
   ],
   "source": [
    "2 not in (2,4,6,8)"
   ]
  },
  {
   "cell_type": "markdown",
   "id": "e7c99300",
   "metadata": {},
   "source": [
    "### Tuple function"
   ]
  },
  {
   "cell_type": "markdown",
   "id": "9bda575d",
   "metadata": {},
   "source": [
    "###### len()"
   ]
  },
  {
   "cell_type": "code",
   "execution_count": 54,
   "id": "b1966b5a",
   "metadata": {},
   "outputs": [
    {
     "name": "stdout",
     "output_type": "stream",
     "text": [
      "5\n"
     ]
    }
   ],
   "source": [
    "a = (5,'book',4,5,'new')\n",
    "print(len(a))"
   ]
  },
  {
   "cell_type": "code",
   "execution_count": 55,
   "id": "2f4e8d2b",
   "metadata": {},
   "outputs": [
    {
     "data": {
      "text/plain": [
       "4"
      ]
     },
     "execution_count": 55,
     "metadata": {},
     "output_type": "execute_result"
    }
   ],
   "source": [
    "b = ([1,2,3],[5,6],'a',10.5)\n",
    "len(b)"
   ]
  },
  {
   "cell_type": "markdown",
   "id": "31f69e55",
   "metadata": {},
   "source": [
    "###### count()"
   ]
  },
  {
   "cell_type": "code",
   "execution_count": 56,
   "id": "d496f77e",
   "metadata": {},
   "outputs": [
    {
     "data": {
      "text/plain": [
       "2"
      ]
     },
     "execution_count": 56,
     "metadata": {},
     "output_type": "execute_result"
    }
   ],
   "source": [
    "tup = (10,20,30,20,40,10,40,50)\n",
    "tup.count(20)"
   ]
  },
  {
   "cell_type": "code",
   "execution_count": 57,
   "id": "00158e68",
   "metadata": {},
   "outputs": [
    {
     "data": {
      "text/plain": [
       "2"
      ]
     },
     "execution_count": 57,
     "metadata": {},
     "output_type": "execute_result"
    }
   ],
   "source": [
    "a = (5,'book',4,5,'new')\n",
    "a.count(5)"
   ]
  },
  {
   "cell_type": "markdown",
   "id": "83511752",
   "metadata": {},
   "source": [
    "###### any"
   ]
  },
  {
   "cell_type": "code",
   "execution_count": 58,
   "id": "1d62b365",
   "metadata": {},
   "outputs": [
    {
     "name": "stdout",
     "output_type": "stream",
     "text": [
      "True\n"
     ]
    }
   ],
   "source": [
    "a = (1,)\n",
    "print(any(a))"
   ]
  },
  {
   "cell_type": "code",
   "execution_count": 59,
   "id": "2f234b9e",
   "metadata": {},
   "outputs": [
    {
     "name": "stdout",
     "output_type": "stream",
     "text": [
      "False\n"
     ]
    }
   ],
   "source": [
    "b = ()\n",
    "print(any(b))"
   ]
  },
  {
   "cell_type": "markdown",
   "id": "b9fa4ff6",
   "metadata": {},
   "source": [
    "###### min() and max()"
   ]
  },
  {
   "cell_type": "code",
   "execution_count": 60,
   "id": "b60125de",
   "metadata": {},
   "outputs": [
    {
     "name": "stdout",
     "output_type": "stream",
     "text": [
      "5\n",
      "1\n"
     ]
    }
   ],
   "source": [
    "t = (1,2,3,4,5)\n",
    "print(max(t))\n",
    "print(min(t))"
   ]
  },
  {
   "cell_type": "code",
   "execution_count": 62,
   "id": "33ac3d4f",
   "metadata": {},
   "outputs": [
    {
     "name": "stdout",
     "output_type": "stream",
     "text": [
      "p\n",
      "A\n"
     ]
    }
   ],
   "source": [
    "a = (\"Apple\")\n",
    "print(max(a))\n",
    "print(min(a))\n",
    "# string \"Apple\" gets converted into individual characters and are compared to return max and min"
   ]
  },
  {
   "cell_type": "code",
   "execution_count": 63,
   "id": "7756d95e",
   "metadata": {},
   "outputs": [
    {
     "ename": "TypeError",
     "evalue": "'>' not supported between instances of 'str' and 'int'",
     "output_type": "error",
     "traceback": [
      "\u001b[1;31m---------------------------------------------------------------------------\u001b[0m",
      "\u001b[1;31mTypeError\u001b[0m                                 Traceback (most recent call last)",
      "\u001b[1;32m<ipython-input-63-3e489bec6443>\u001b[0m in \u001b[0;36m<module>\u001b[1;34m\u001b[0m\n\u001b[0;32m      1\u001b[0m \u001b[1;31m# to use min n max,all values in the tuple must be of same type\u001b[0m\u001b[1;33m\u001b[0m\u001b[1;33m\u001b[0m\u001b[1;33m\u001b[0m\u001b[0m\n\u001b[0;32m      2\u001b[0m \u001b[0mt\u001b[0m \u001b[1;33m=\u001b[0m \u001b[1;33m(\u001b[0m\u001b[1;36m10\u001b[0m\u001b[1;33m,\u001b[0m\u001b[1;34m'a'\u001b[0m\u001b[1;33m,\u001b[0m\u001b[1;36m30\u001b[0m\u001b[1;33m)\u001b[0m\u001b[1;33m\u001b[0m\u001b[1;33m\u001b[0m\u001b[0m\n\u001b[1;32m----> 3\u001b[1;33m \u001b[0mmax\u001b[0m\u001b[1;33m(\u001b[0m\u001b[0mt\u001b[0m\u001b[1;33m)\u001b[0m\u001b[1;33m\u001b[0m\u001b[1;33m\u001b[0m\u001b[0m\n\u001b[0m",
      "\u001b[1;31mTypeError\u001b[0m: '>' not supported between instances of 'str' and 'int'"
     ]
    }
   ],
   "source": [
    "# to use min n max,all values in the tuple must be of same type\n",
    "t = (10,'a',30)\n",
    "max(t)"
   ]
  },
  {
   "cell_type": "code",
   "execution_count": 64,
   "id": "1f44e972",
   "metadata": {},
   "outputs": [
    {
     "data": {
      "text/plain": [
       "'VIKAS'"
      ]
     },
     "execution_count": 64,
     "metadata": {},
     "output_type": "execute_result"
    }
   ],
   "source": [
    "#max n min checks on the basis of ASCII values. If there are two different strings in a tuple, then the first different character in the strings is checked\n",
    "tup1 = ('ALL','RAHUL','VIKAS')\n",
    "max(tup1)"
   ]
  },
  {
   "cell_type": "markdown",
   "id": "28fa2bb3",
   "metadata": {},
   "source": [
    "###### Sorted"
   ]
  },
  {
   "cell_type": "code",
   "execution_count": 65,
   "id": "9996fe39",
   "metadata": {},
   "outputs": [
    {
     "data": {
      "text/plain": [
       "[1, 2, 3, 4, 5, 6, 7]"
      ]
     },
     "execution_count": 65,
     "metadata": {},
     "output_type": "execute_result"
    }
   ],
   "source": [
    "#returns a list after sorting\n",
    "a = (6,7,4,2,1,5,3)\n",
    "sorted(a)"
   ]
  },
  {
   "cell_type": "markdown",
   "id": "9ac3d682",
   "metadata": {},
   "source": [
    "###### index"
   ]
  },
  {
   "cell_type": "code",
   "execution_count": 66,
   "id": "eca643b8",
   "metadata": {},
   "outputs": [
    {
     "data": {
      "text/plain": [
       "1"
      ]
     },
     "execution_count": 66,
     "metadata": {},
     "output_type": "execute_result"
    }
   ],
   "source": [
    "v = ('yes','no','yes','yes','no')\n",
    "v.index('no')"
   ]
  },
  {
   "cell_type": "code",
   "execution_count": 67,
   "id": "e4aca49c",
   "metadata": {},
   "outputs": [
    {
     "data": {
      "text/plain": [
       "2"
      ]
     },
     "execution_count": 67,
     "metadata": {},
     "output_type": "execute_result"
    }
   ],
   "source": [
    "v.index('yes',1,4)"
   ]
  },
  {
   "cell_type": "markdown",
   "id": "e62defff",
   "metadata": {},
   "source": [
    "### Comparing Tuples"
   ]
  },
  {
   "cell_type": "code",
   "execution_count": 68,
   "id": "58245425",
   "metadata": {},
   "outputs": [
    {
     "data": {
      "text/plain": [
       "False"
      ]
     },
     "execution_count": 68,
     "metadata": {},
     "output_type": "execute_result"
    }
   ],
   "source": [
    "(0,1,2) > (0,3,4)"
   ]
  },
  {
   "cell_type": "code",
   "execution_count": 69,
   "id": "da8ffd31",
   "metadata": {},
   "outputs": [
    {
     "data": {
      "text/plain": [
       "True"
      ]
     },
     "execution_count": 69,
     "metadata": {},
     "output_type": "execute_result"
    }
   ],
   "source": [
    "(0,1,200000) < (0,3,4)"
   ]
  },
  {
   "cell_type": "code",
   "execution_count": 70,
   "id": "ea8a143c",
   "metadata": {},
   "outputs": [
    {
     "data": {
      "text/plain": [
       "True"
      ]
     },
     "execution_count": 70,
     "metadata": {},
     "output_type": "execute_result"
    }
   ],
   "source": [
    "#while comparing int and float are considered as same\n",
    "t1 = (1,2,3)\n",
    "t2 = (1.0,2.0,3.0)\n",
    "t1 == t2"
   ]
  },
  {
   "cell_type": "code",
   "execution_count": 72,
   "id": "9d61827b",
   "metadata": {},
   "outputs": [
    {
     "data": {
      "text/plain": [
       "True"
      ]
     },
     "execution_count": 72,
     "metadata": {},
     "output_type": "execute_result"
    }
   ],
   "source": [
    "t1 = (1,2,3)\n",
    "t4 = (10,20,30)\n",
    "t1 != t4"
   ]
  },
  {
   "cell_type": "markdown",
   "id": "754606b2",
   "metadata": {},
   "source": [
    "### Deleting a tuple"
   ]
  },
  {
   "cell_type": "code",
   "execution_count": 73,
   "id": "e1b3a5a1",
   "metadata": {},
   "outputs": [
    {
     "name": "stdout",
     "output_type": "stream",
     "text": [
      "(1, 2, 3)\n"
     ]
    }
   ],
   "source": [
    "tup = (1,2,3)\n",
    "print(tup)"
   ]
  },
  {
   "cell_type": "code",
   "execution_count": 74,
   "id": "25cda201",
   "metadata": {},
   "outputs": [
    {
     "ename": "NameError",
     "evalue": "name 'tup' is not defined",
     "output_type": "error",
     "traceback": [
      "\u001b[1;31m---------------------------------------------------------------------------\u001b[0m",
      "\u001b[1;31mNameError\u001b[0m                                 Traceback (most recent call last)",
      "\u001b[1;32m<ipython-input-74-bcdbccb5f0f8>\u001b[0m in \u001b[0;36m<module>\u001b[1;34m\u001b[0m\n\u001b[0;32m      1\u001b[0m \u001b[1;32mdel\u001b[0m \u001b[0mtup\u001b[0m\u001b[1;33m\u001b[0m\u001b[1;33m\u001b[0m\u001b[0m\n\u001b[1;32m----> 2\u001b[1;33m \u001b[0mprint\u001b[0m\u001b[1;33m(\u001b[0m\u001b[0mtup\u001b[0m\u001b[1;33m)\u001b[0m\u001b[1;33m\u001b[0m\u001b[1;33m\u001b[0m\u001b[0m\n\u001b[0m",
      "\u001b[1;31mNameError\u001b[0m: name 'tup' is not defined"
     ]
    }
   ],
   "source": [
    "del tup\n",
    "print(tup)"
   ]
  },
  {
   "cell_type": "code",
   "execution_count": null,
   "id": "8fcafbac",
   "metadata": {},
   "outputs": [],
   "source": []
  }
 ],
 "metadata": {
  "kernelspec": {
   "display_name": "Python 3",
   "language": "python",
   "name": "python3"
  },
  "language_info": {
   "codemirror_mode": {
    "name": "ipython",
    "version": 3
   },
   "file_extension": ".py",
   "mimetype": "text/x-python",
   "name": "python",
   "nbconvert_exporter": "python",
   "pygments_lexer": "ipython3",
   "version": "3.8.8"
  }
 },
 "nbformat": 4,
 "nbformat_minor": 5
}
