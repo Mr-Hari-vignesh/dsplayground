{
 "cells": [
  {
   "cell_type": "markdown",
   "id": "c66d0de0",
   "metadata": {},
   "source": [
    "### Definition"
   ]
  },
  {
   "cell_type": "code",
   "execution_count": 1,
   "id": "3e17a789",
   "metadata": {},
   "outputs": [],
   "source": [
    "# Python dictionary is an unordered collection of items where each item is a key-value pair.It is a mapping between a set of keys/indices and a set of values\n"
   ]
  },
  {
   "cell_type": "markdown",
   "id": "1c721ad0",
   "metadata": {},
   "source": [
    "### Creating a dictionary"
   ]
  },
  {
   "cell_type": "code",
   "execution_count": 2,
   "id": "c1a79aec",
   "metadata": {},
   "outputs": [
    {
     "data": {
      "text/plain": [
       "dict"
      ]
     },
     "execution_count": 2,
     "metadata": {},
     "output_type": "execute_result"
    }
   ],
   "source": [
    "# empty dictionary\n",
    "d1 = {}\n",
    "type(d1)"
   ]
  },
  {
   "cell_type": "code",
   "execution_count": 3,
   "id": "0e0ff8d2",
   "metadata": {},
   "outputs": [
    {
     "name": "stdout",
     "output_type": "stream",
     "text": [
      "{'input': 'keyboard', 'output': 'printer', 'language': 'python', 'OS': 'Wndows-8'}\n"
     ]
    }
   ],
   "source": [
    "d2 = {'input': 'keyboard','output':'printer','language':'python','OS':'Wndows-8'}\n",
    "print(d2)"
   ]
  },
  {
   "cell_type": "code",
   "execution_count": 4,
   "id": "cd9f76ca",
   "metadata": {},
   "outputs": [
    {
     "name": "stdout",
     "output_type": "stream",
     "text": [
      "{}\n"
     ]
    }
   ],
   "source": [
    "d = dict()\n",
    "print(d)"
   ]
  },
  {
   "cell_type": "markdown",
   "id": "3c7ad55b",
   "metadata": {},
   "source": [
    "### To add an item to the dictionary"
   ]
  },
  {
   "cell_type": "code",
   "execution_count": 5,
   "id": "6c292c5e",
   "metadata": {},
   "outputs": [
    {
     "name": "stdout",
     "output_type": "stream",
     "text": [
      "{1: 'one', 2: 'two', 3: 'three', 4: 'four'}\n"
     ]
    }
   ],
   "source": [
    "d ={}\n",
    "d[1] = \"one\"\n",
    "d[2] = 'two'\n",
    "d[3]= 'three'\n",
    "d[4]= 'four'\n",
    "print(d)"
   ]
  },
  {
   "cell_type": "markdown",
   "id": "557426db",
   "metadata": {},
   "source": [
    "### Accessing elements in a dictionary"
   ]
  },
  {
   "cell_type": "code",
   "execution_count": 6,
   "id": "6c5ca12f",
   "metadata": {},
   "outputs": [
    {
     "name": "stdout",
     "output_type": "stream",
     "text": [
      "dict['Name'] :  Riya\n"
     ]
    }
   ],
   "source": [
    "dict = {'Name': 'Riya','Age': 7,'Class':'Second'}\n",
    "print(\"dict['Name'] : \",dict['Name'])"
   ]
  },
  {
   "cell_type": "code",
   "execution_count": 7,
   "id": "f4385de6",
   "metadata": {},
   "outputs": [
    {
     "name": "stdout",
     "output_type": "stream",
     "text": [
      "dict[Age]:  7\n"
     ]
    }
   ],
   "source": [
    "print(\"dict[Age]: \",dict['Age'])"
   ]
  },
  {
   "cell_type": "markdown",
   "id": "3661df07",
   "metadata": {},
   "source": [
    "### Traversing a dictionary"
   ]
  },
  {
   "cell_type": "code",
   "execution_count": 9,
   "id": "76eafa4f",
   "metadata": {},
   "outputs": [
    {
     "name": "stdout",
     "output_type": "stream",
     "text": [
      "1 : one\n",
      "2 : two\n",
      "3 : three\n",
      "4 : four\n"
     ]
    }
   ],
   "source": [
    "# Traversing means accessing each element of a dictionary. This can be done by using a for loop\n",
    "d = {1:'one',2:'two',3:'three',4:'four'}\n",
    "for i in d:\n",
    "    print(i, ':', d[i])"
   ]
  },
  {
   "cell_type": "markdown",
   "id": "24702865",
   "metadata": {},
   "source": [
    "### Appending values in a dictionary"
   ]
  },
  {
   "cell_type": "code",
   "execution_count": 10,
   "id": "49dd6447",
   "metadata": {},
   "outputs": [
    {
     "data": {
      "text/plain": [
       "{'mon': 'monday', 'tue': 'tuesday', 'wed': 'wednesday', 'thur': 'thursday'}"
      ]
     },
     "execution_count": 10,
     "metadata": {},
     "output_type": "execute_result"
    }
   ],
   "source": [
    "d1 = {'mon':'monday','tue':'tuesday','wed':\"wednesday\"}\n",
    "d1['thur'] = 'thursday'\n",
    "d1"
   ]
  },
  {
   "cell_type": "markdown",
   "id": "c9ef8060",
   "metadata": {},
   "source": [
    "### Updating elements"
   ]
  },
  {
   "cell_type": "code",
   "execution_count": 11,
   "id": "ff632a79",
   "metadata": {},
   "outputs": [
    {
     "name": "stdout",
     "output_type": "stream",
     "text": [
      "{'Teena': 18, 'Riya': 28, 'Alen': 22, 'Ravi': 25}\n"
     ]
    }
   ],
   "source": [
    "dict ={'Teena':18,'Riya':12,'Alen':22,'Ravi': 25}\n",
    "dict['Riya'] = 28\n",
    "print(dict)"
   ]
  },
  {
   "cell_type": "code",
   "execution_count": 13,
   "id": "d739cc1f",
   "metadata": {},
   "outputs": [
    {
     "name": "stdout",
     "output_type": "stream",
     "text": [
      "{'Teena': 18, 'Riya': 28, 'Alen': 22, 'Ravi': 25, 'Priya': 60}\n"
     ]
    }
   ],
   "source": [
    "\n",
    "dict['Priya']= 60\n",
    "print(dict)"
   ]
  },
  {
   "cell_type": "markdown",
   "id": "f5a06b1a",
   "metadata": {},
   "source": [
    "### Merging "
   ]
  },
  {
   "cell_type": "code",
   "execution_count": 15,
   "id": "9be01047",
   "metadata": {},
   "outputs": [
    {
     "name": "stdout",
     "output_type": "stream",
     "text": [
      "{1: 10, 2: 20, 3: 30, 4: 40, 5: 50}\n"
     ]
    }
   ],
   "source": [
    "d1 = {1:10,2:20,3:30}\n",
    "d2 = {4:40,5:50}\n",
    "d1.update(d2)\n",
    "print(d1)"
   ]
  },
  {
   "cell_type": "code",
   "execution_count": 17,
   "id": "a068d589",
   "metadata": {},
   "outputs": [
    {
     "name": "stdout",
     "output_type": "stream",
     "text": [
      "{1: 10, 2: 20, 3: 30, 5: 40, 6: 60}\n"
     ]
    }
   ],
   "source": [
    "d1 = {1:10,2:30,3:30,5:40,6:60}\n",
    "d2 = {1:10,2:20,3:30}\n",
    "d1.update(d2)\n",
    "print(d1)\n",
    "#value of key 2 is replaced with 20 in the d1"
   ]
  },
  {
   "cell_type": "markdown",
   "id": "4e87f423",
   "metadata": {},
   "source": [
    "### Removing an item "
   ]
  },
  {
   "cell_type": "markdown",
   "id": "56c12720",
   "metadata": {},
   "source": [
    "###### using del command"
   ]
  },
  {
   "cell_type": "code",
   "execution_count": 19,
   "id": "bd03b10a",
   "metadata": {},
   "outputs": [
    {
     "name": "stdout",
     "output_type": "stream",
     "text": [
      "{'mon': 'Monday', 'tue': 'tuesday', 'thur': 'thursday'}\n"
     ]
    }
   ],
   "source": [
    "A = {\"mon\":'Monday','tue':'tuesday','wed':'wednesday','thur':'thursday'}\n",
    "del A['wed']\n",
    "print(A)"
   ]
  },
  {
   "cell_type": "markdown",
   "id": "3eb2893e",
   "metadata": {},
   "source": [
    "###### using pop()"
   ]
  },
  {
   "cell_type": "code",
   "execution_count": 20,
   "id": "3d0c24c0",
   "metadata": {},
   "outputs": [
    {
     "data": {
      "text/plain": [
       "'tuesday'"
      ]
     },
     "execution_count": 20,
     "metadata": {},
     "output_type": "execute_result"
    }
   ],
   "source": [
    "d3 = {'mon':'monday','tue':'tuesday','wed':'wednesday'}\n",
    "d3.pop('tue')"
   ]
  },
  {
   "cell_type": "code",
   "execution_count": 21,
   "id": "e763a1de",
   "metadata": {},
   "outputs": [
    {
     "name": "stdout",
     "output_type": "stream",
     "text": [
      "{'mon': 'monday', 'wed': 'wednesday'}\n"
     ]
    }
   ],
   "source": [
    "print(d3)"
   ]
  },
  {
   "cell_type": "markdown",
   "id": "f124c074",
   "metadata": {},
   "source": [
    "### 'in' and 'not in' membership operator"
   ]
  },
  {
   "cell_type": "code",
   "execution_count": 22,
   "id": "eb0ec85b",
   "metadata": {},
   "outputs": [
    {
     "data": {
      "text/plain": [
       "True"
      ]
     },
     "execution_count": 22,
     "metadata": {},
     "output_type": "execute_result"
    }
   ],
   "source": [
    "A = {'mon':'monday', 'tue':'tuesday','wed':'wednesday','thur': 'thursday'}\n",
    "'thur'in A"
   ]
  },
  {
   "cell_type": "code",
   "execution_count": 23,
   "id": "f3a2762b",
   "metadata": {},
   "outputs": [
    {
     "data": {
      "text/plain": [
       "False"
      ]
     },
     "execution_count": 23,
     "metadata": {},
     "output_type": "execute_result"
    }
   ],
   "source": [
    "'fri' in A"
   ]
  },
  {
   "cell_type": "code",
   "execution_count": 25,
   "id": "df5edb70",
   "metadata": {},
   "outputs": [],
   "source": [
    "#membership operation in apply only to the keys in a dictionary"
   ]
  },
  {
   "cell_type": "markdown",
   "id": "4e23c065",
   "metadata": {},
   "source": [
    "### Dictionary Functions"
   ]
  },
  {
   "cell_type": "markdown",
   "id": "36ccc230",
   "metadata": {},
   "source": [
    "###### len()"
   ]
  },
  {
   "cell_type": "code",
   "execution_count": 26,
   "id": "ba231c41",
   "metadata": {},
   "outputs": [
    {
     "data": {
      "text/plain": [
       "5"
      ]
     },
     "execution_count": 26,
     "metadata": {},
     "output_type": "execute_result"
    }
   ],
   "source": [
    "d1 = {1:10,2:30,3:30,5:40,6:60}\n",
    "len(d1)"
   ]
  },
  {
   "cell_type": "markdown",
   "id": "0a8e72d7",
   "metadata": {},
   "source": [
    "###### clear()"
   ]
  },
  {
   "cell_type": "code",
   "execution_count": 27,
   "id": "f7e5cb2a",
   "metadata": {},
   "outputs": [
    {
     "name": "stdout",
     "output_type": "stream",
     "text": [
      "{1: 'one', 2: 'two', 3: 'three', 4: 'four'}\n"
     ]
    }
   ],
   "source": [
    "D ={1:'one',2:'two',3:'three',4:'four'}\n",
    "print(D)"
   ]
  },
  {
   "cell_type": "code",
   "execution_count": 28,
   "id": "56ab0620",
   "metadata": {},
   "outputs": [
    {
     "name": "stdout",
     "output_type": "stream",
     "text": [
      "{}\n"
     ]
    }
   ],
   "source": [
    "D.clear()\n",
    "print(D)"
   ]
  },
  {
   "cell_type": "markdown",
   "id": "914c6a55",
   "metadata": {},
   "source": [
    "###### get()"
   ]
  },
  {
   "cell_type": "code",
   "execution_count": 31,
   "id": "25522bea",
   "metadata": {},
   "outputs": [
    {
     "data": {
      "text/plain": [
       "'wednesday'"
      ]
     },
     "execution_count": 31,
     "metadata": {},
     "output_type": "execute_result"
    }
   ],
   "source": [
    "d1 = {'sun':'sunday','mon':'monday','tue':'tuesday','wed':'wednesday','thu':'thursday'}\n",
    "d1.get('wed')"
   ]
  },
  {
   "cell_type": "code",
   "execution_count": 33,
   "id": "372bb315",
   "metadata": {},
   "outputs": [
    {
     "name": "stdout",
     "output_type": "stream",
     "text": [
      "None\n"
     ]
    }
   ],
   "source": [
    "#will return none as key doesnot exist\"\n",
    "print(d1.get('fri'))"
   ]
  },
  {
   "cell_type": "code",
   "execution_count": 36,
   "id": "470896dc",
   "metadata": {},
   "outputs": [
    {
     "data": {
      "text/plain": [
       "'never'"
      ]
     },
     "execution_count": 36,
     "metadata": {},
     "output_type": "execute_result"
    }
   ],
   "source": [
    "# can specify our own message also\n",
    "d1.get('fri','never')"
   ]
  },
  {
   "cell_type": "markdown",
   "id": "cffaeddd",
   "metadata": {},
   "source": [
    "###### items()"
   ]
  },
  {
   "cell_type": "code",
   "execution_count": 38,
   "id": "ce4f30bb",
   "metadata": {},
   "outputs": [
    {
     "data": {
      "text/plain": [
       "dict_items([('sun', 'sunday'), ('mon', 'monday'), ('tue', 'tuesday'), ('wed', 'wednesday'), ('thu', 'thursday')])"
      ]
     },
     "execution_count": 38,
     "metadata": {},
     "output_type": "execute_result"
    }
   ],
   "source": [
    "#returnsthe content of dictionary as a list of tuples having key-value pairs\n",
    "d = {'sun':'sunday','mon':'monday','tue':'tuesday','wed':'wednesday','thu':'thursday'}\n",
    "d.items()"
   ]
  },
  {
   "cell_type": "markdown",
   "id": "b3d6f3d9",
   "metadata": {},
   "source": [
    "###### keys()"
   ]
  },
  {
   "cell_type": "code",
   "execution_count": 39,
   "id": "8af5e36f",
   "metadata": {},
   "outputs": [
    {
     "data": {
      "text/plain": [
       "dict_keys(['sun', 'mon', 'tue', 'wed', 'thu'])"
      ]
     },
     "execution_count": 39,
     "metadata": {},
     "output_type": "execute_result"
    }
   ],
   "source": [
    "#returns a list of the key values in a dictionary\n",
    "d = {'sun':'sunday','mon':'monday','tue':'tuesday','wed':'wednesday','thu':'thursday'}\n",
    "d.keys()\n"
   ]
  },
  {
   "cell_type": "markdown",
   "id": "eb6930ce",
   "metadata": {},
   "source": [
    "###### values()"
   ]
  },
  {
   "cell_type": "code",
   "execution_count": 40,
   "id": "0e373ebf",
   "metadata": {},
   "outputs": [
    {
     "data": {
      "text/plain": [
       "dict_values(['sunday', 'monday', 'tuesday', 'wednesday', 'thursday'])"
      ]
     },
     "execution_count": 40,
     "metadata": {},
     "output_type": "execute_result"
    }
   ],
   "source": [
    "#returns a list of values from key-value pairs in a dictionary\n",
    "d = {'sun':'sunday','mon':'monday','tue':'tuesday','wed':'wednesday','thu':'thursday'}\n",
    "d.values()"
   ]
  },
  {
   "cell_type": "code",
   "execution_count": null,
   "id": "f4342507",
   "metadata": {},
   "outputs": [],
   "source": [
    " "
   ]
  }
 ],
 "metadata": {
  "kernelspec": {
   "display_name": "Python 3",
   "language": "python",
   "name": "python3"
  },
  "language_info": {
   "codemirror_mode": {
    "name": "ipython",
    "version": 3
   },
   "file_extension": ".py",
   "mimetype": "text/x-python",
   "name": "python",
   "nbconvert_exporter": "python",
   "pygments_lexer": "ipython3",
   "version": "3.8.8"
  }
 },
 "nbformat": 4,
 "nbformat_minor": 5
}
